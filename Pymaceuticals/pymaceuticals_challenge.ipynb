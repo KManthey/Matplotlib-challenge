{
 "cells": [
  {
   "cell_type": "markdown",
   "metadata": {},
   "source": [
    "## Observations and Insights "
   ]
  },
  {
   "cell_type": "markdown",
   "metadata": {},
   "source": []
  },
  {
   "cell_type": "code",
   "execution_count": null,
   "metadata": {},
   "outputs": [],
   "source": [
    "# Dependencies and Setup\n",
    "import matplotlib.pyplot as plt\n",
    "import pandas as pd\n",
    "import scipy.stats as st\n",
    "\n",
    "# Study data files\n",
    "mouse_metadata_path = \"data/Mouse_metadata.csv\"\n",
    "study_results_path = \"data/Study_results.csv\"\n",
    "\n",
    "# Read the mouse data and the study results\n",
    "mouse_metadata = pd.read_csv(mouse_metadata_path)\n",
    "study_results = pd.read_csv(study_results_path)\n",
    "\n",
    "# Combine the data into a single dataset\n",
    "#find common column to base our merge on\n",
    "MergeData = pd.merge(mouse_metadata, study_results, on=\"Mouse ID\")\n",
    "\n",
    "# Display the data table for preview\n",
    "MergeData.head()"
   ]
  },
  {
   "cell_type": "code",
   "execution_count": null,
   "metadata": {},
   "outputs": [],
   "source": [
    "# Checking the number of mice.\n",
    "MergeData[\"Mouse ID\"].count()"
   ]
  },
  {
   "cell_type": "code",
   "execution_count": null,
   "metadata": {},
   "outputs": [],
   "source": [
    "# Getting the duplicate mice by ID number that shows up for Mouse ID and Timepoint.\n",
    "#Remove any data (records) associated with that mouse ID. Use the cleaned data in the remaining steps.(next two steps)\n",
    "\n",
    "MergeData[MergeData.duplicated()]"
   ]
  },
  {
   "cell_type": "code",
   "execution_count": 4,
   "metadata": {},
   "outputs": [
    {
     "data": {
      "text/plain": [
       "Int64Index([908, 909, 910, 911, 912, 913, 914, 915, 916, 917, 918, 919, 920], dtype='int64')"
      ]
     },
     "execution_count": 4,
     "metadata": {},
     "output_type": "execute_result"
    }
   ],
   "source": [
    "# Optional: Get all the data for the duplicate mouse ID. \n",
    "MergeData.loc[MergeData[\"Mouse ID\"]=='g989'].index\n",
    "#MergeData = [got_data[\"Mouse ID\"]=='g989'].value_counts()\n",
    "#MergeData"
   ]
  },
  {
   "cell_type": "code",
   "execution_count": 5,
   "metadata": {},
   "outputs": [
    {
     "data": {
      "text/plain": [
       "Mouse ID               249\n",
       "Drug Regimen            10\n",
       "Sex                      2\n",
       "Age_months              24\n",
       "Weight (g)              16\n",
       "Timepoint               10\n",
       "Tumor Volume (mm3)    1644\n",
       "Metastatic Sites         5\n",
       "dtype: int64"
      ]
     },
     "execution_count": 5,
     "metadata": {},
     "output_type": "execute_result"
    }
   ],
   "source": [
    "#current for comparison\n",
    "MergeData.nunique()"
   ]
  },
  {
   "cell_type": "code",
   "execution_count": 6,
   "metadata": {},
   "outputs": [],
   "source": [
    "# Define drop to create a clean DataFrame by dropping the duplicate mouse by its ID.\n",
    "MergeData = MergeData.drop(MergeData.loc[MergeData[\"Mouse ID\"]== \"g989\"].index)"
   ]
  },
  {
   "cell_type": "code",
   "execution_count": 7,
   "metadata": {},
   "outputs": [
    {
     "data": {
      "text/plain": [
       "Mouse ID               248\n",
       "Drug Regimen            10\n",
       "Sex                      2\n",
       "Age_months              24\n",
       "Weight (g)              16\n",
       "Timepoint               10\n",
       "Tumor Volume (mm3)    1633\n",
       "Metastatic Sites         5\n",
       "dtype: int64"
      ]
     },
     "execution_count": 7,
     "metadata": {},
     "output_type": "execute_result"
    }
   ],
   "source": [
    "#for comparison\n",
    "MergeData.nunique()"
   ]
  },
  {
   "cell_type": "code",
   "execution_count": 8,
   "metadata": {},
   "outputs": [],
   "source": [
    "CleanData_df = MergeData.drop_duplicates()"
   ]
  },
  {
   "cell_type": "code",
   "execution_count": 9,
   "metadata": {},
   "outputs": [
    {
     "data": {
      "text/plain": [
       "1880"
      ]
     },
     "execution_count": 9,
     "metadata": {},
     "output_type": "execute_result"
    }
   ],
   "source": [
    "# Checking the number of mice in the clean DataFrame.\n",
    "CleanData_df[\"Mouse ID\"].count()"
   ]
  },
  {
   "cell_type": "code",
   "execution_count": 10,
   "metadata": {},
   "outputs": [
    {
     "data": {
      "text/plain": [
       "(1880, 8)"
      ]
     },
     "execution_count": 10,
     "metadata": {},
     "output_type": "execute_result"
    }
   ],
   "source": [
    "CleanData_df.shape"
   ]
  },
  {
   "cell_type": "markdown",
   "metadata": {},
   "source": [
    "## Summary Statistics"
   ]
  },
  {
   "cell_type": "code",
   "execution_count": 11,
   "metadata": {},
   "outputs": [
    {
     "data": {
      "text/html": [
       "<div>\n",
       "<style scoped>\n",
       "    .dataframe tbody tr th:only-of-type {\n",
       "        vertical-align: middle;\n",
       "    }\n",
       "\n",
       "    .dataframe tbody tr th {\n",
       "        vertical-align: top;\n",
       "    }\n",
       "\n",
       "    .dataframe thead th {\n",
       "        text-align: right;\n",
       "    }\n",
       "</style>\n",
       "<table border=\"1\" class=\"dataframe\">\n",
       "  <thead>\n",
       "    <tr style=\"text-align: right;\">\n",
       "      <th></th>\n",
       "      <th>Mean Tumor Volume</th>\n",
       "      <th>Median Tumor Volume</th>\n",
       "      <th>Tumor Volume Variance</th>\n",
       "      <th>Tumor Volume Std.Dev.</th>\n",
       "      <th>Tumor Volume Std.Err.</th>\n",
       "    </tr>\n",
       "    <tr>\n",
       "      <th>Drug Regimen</th>\n",
       "      <th></th>\n",
       "      <th></th>\n",
       "      <th></th>\n",
       "      <th></th>\n",
       "      <th></th>\n",
       "    </tr>\n",
       "  </thead>\n",
       "  <tbody>\n",
       "    <tr>\n",
       "      <th>Capomulin</th>\n",
       "      <td>40.675741</td>\n",
       "      <td>41.557809</td>\n",
       "      <td>41.557809</td>\n",
       "      <td>24.947764</td>\n",
       "      <td>0.329346</td>\n",
       "    </tr>\n",
       "    <tr>\n",
       "      <th>Ceftamin</th>\n",
       "      <td>52.591172</td>\n",
       "      <td>51.776157</td>\n",
       "      <td>51.776157</td>\n",
       "      <td>39.290177</td>\n",
       "      <td>0.469821</td>\n",
       "    </tr>\n",
       "    <tr>\n",
       "      <th>Infubinol</th>\n",
       "      <td>52.884795</td>\n",
       "      <td>51.820584</td>\n",
       "      <td>51.820584</td>\n",
       "      <td>43.128684</td>\n",
       "      <td>0.492236</td>\n",
       "    </tr>\n",
       "    <tr>\n",
       "      <th>Ketapril</th>\n",
       "      <td>55.235638</td>\n",
       "      <td>53.698743</td>\n",
       "      <td>53.698743</td>\n",
       "      <td>68.553577</td>\n",
       "      <td>0.603860</td>\n",
       "    </tr>\n",
       "    <tr>\n",
       "      <th>Naftisol</th>\n",
       "      <td>54.331565</td>\n",
       "      <td>52.509285</td>\n",
       "      <td>52.509285</td>\n",
       "      <td>66.173479</td>\n",
       "      <td>0.596466</td>\n",
       "    </tr>\n",
       "    <tr>\n",
       "      <th>Placebo</th>\n",
       "      <td>54.033581</td>\n",
       "      <td>52.288934</td>\n",
       "      <td>52.288934</td>\n",
       "      <td>61.168083</td>\n",
       "      <td>0.581331</td>\n",
       "    </tr>\n",
       "    <tr>\n",
       "      <th>Propriva</th>\n",
       "      <td>52.320930</td>\n",
       "      <td>50.446266</td>\n",
       "      <td>50.446266</td>\n",
       "      <td>43.852013</td>\n",
       "      <td>0.544332</td>\n",
       "    </tr>\n",
       "    <tr>\n",
       "      <th>Ramicane</th>\n",
       "      <td>40.216745</td>\n",
       "      <td>40.673236</td>\n",
       "      <td>40.673236</td>\n",
       "      <td>23.486704</td>\n",
       "      <td>0.320955</td>\n",
       "    </tr>\n",
       "    <tr>\n",
       "      <th>Stelasyn</th>\n",
       "      <td>54.233149</td>\n",
       "      <td>52.431737</td>\n",
       "      <td>52.431737</td>\n",
       "      <td>59.450562</td>\n",
       "      <td>0.573111</td>\n",
       "    </tr>\n",
       "    <tr>\n",
       "      <th>Zoniferol</th>\n",
       "      <td>53.236507</td>\n",
       "      <td>51.818479</td>\n",
       "      <td>51.818479</td>\n",
       "      <td>48.533355</td>\n",
       "      <td>0.516398</td>\n",
       "    </tr>\n",
       "  </tbody>\n",
       "</table>\n",
       "</div>"
      ],
      "text/plain": [
       "              Mean Tumor Volume  Median Tumor Volume  Tumor Volume Variance  \\\n",
       "Drug Regimen                                                                  \n",
       "Capomulin             40.675741            41.557809              41.557809   \n",
       "Ceftamin              52.591172            51.776157              51.776157   \n",
       "Infubinol             52.884795            51.820584              51.820584   \n",
       "Ketapril              55.235638            53.698743              53.698743   \n",
       "Naftisol              54.331565            52.509285              52.509285   \n",
       "Placebo               54.033581            52.288934              52.288934   \n",
       "Propriva              52.320930            50.446266              50.446266   \n",
       "Ramicane              40.216745            40.673236              40.673236   \n",
       "Stelasyn              54.233149            52.431737              52.431737   \n",
       "Zoniferol             53.236507            51.818479              51.818479   \n",
       "\n",
       "              Tumor Volume Std.Dev.  Tumor Volume Std.Err.  \n",
       "Drug Regimen                                                \n",
       "Capomulin                 24.947764               0.329346  \n",
       "Ceftamin                  39.290177               0.469821  \n",
       "Infubinol                 43.128684               0.492236  \n",
       "Ketapril                  68.553577               0.603860  \n",
       "Naftisol                  66.173479               0.596466  \n",
       "Placebo                   61.168083               0.581331  \n",
       "Propriva                  43.852013               0.544332  \n",
       "Ramicane                  23.486704               0.320955  \n",
       "Stelasyn                  59.450562               0.573111  \n",
       "Zoniferol                 48.533355               0.516398  "
      ]
     },
     "execution_count": 11,
     "metadata": {},
     "output_type": "execute_result"
    }
   ],
   "source": [
    "# Generate a summary statistics table of mean, median, variance, standard deviation, and SEM of the tumor volume for each regimen\n",
    "\n",
    "# Use groupby and summary statistical methods to calculate the following properties of each drug regimen: \n",
    "regimen_df = CleanData_df.groupby([\"Drug Regimen\"]) \n",
    "# mean, median, variance, standard deviation, and SEM of the tumor volume. \n",
    "drug_mean = regimen_df.mean()[\"Tumor Volume (mm3)\"]\n",
    "drug_median = regimen_df.median()[\"Tumor Volume (mm3)\"]\n",
    "drug_variance = regimen_df.var()[\"Tumor Volume (mm3)\"]\n",
    "drug_dev = regimen_df.std()[\"Tumor Volume (mm3)\"]\n",
    "drug_SE = regimen_df.sem()[\"Tumor Volume (mm3)\"]\n",
    "\n",
    "# Assemble the resulting series into a single summary dataframe.\n",
    "Regimen_summary_df = pd.DataFrame({\"Mean Tumor Volume\": drug_mean,\n",
    "                                   \"Median Tumor Volume\": drug_median,\n",
    "                                   \"Tumor Volume Variance\": drug_median,\n",
    "                                   \"Tumor Volume Std.Dev.\": drug_variance,\n",
    "                                   \"Tumor Volume Std.Err.\": drug_SE})\n",
    "\n",
    "#print(drug_mean) - prints\n",
    "#print(drug_median) - prints\n",
    "#print(drug_variance) - prints\n",
    "#print(drug_dev) - prints\n",
    "#print (drug_SE)\n",
    "Regimen_summary_df"
   ]
  },
  {
   "cell_type": "code",
   "execution_count": 12,
   "metadata": {},
   "outputs": [
    {
     "data": {
      "text/html": [
       "<div>\n",
       "<style scoped>\n",
       "    .dataframe tbody tr th:only-of-type {\n",
       "        vertical-align: middle;\n",
       "    }\n",
       "\n",
       "    .dataframe tbody tr th {\n",
       "        vertical-align: top;\n",
       "    }\n",
       "\n",
       "    .dataframe thead tr th {\n",
       "        text-align: left;\n",
       "    }\n",
       "\n",
       "    .dataframe thead tr:last-of-type th {\n",
       "        text-align: right;\n",
       "    }\n",
       "</style>\n",
       "<table border=\"1\" class=\"dataframe\">\n",
       "  <thead>\n",
       "    <tr>\n",
       "      <th></th>\n",
       "      <th colspan=\"5\" halign=\"left\">Tumor Volume (mm3)</th>\n",
       "    </tr>\n",
       "    <tr>\n",
       "      <th></th>\n",
       "      <th>mean</th>\n",
       "      <th>median</th>\n",
       "      <th>var</th>\n",
       "      <th>std</th>\n",
       "      <th>sem</th>\n",
       "    </tr>\n",
       "    <tr>\n",
       "      <th>Drug Regimen</th>\n",
       "      <th></th>\n",
       "      <th></th>\n",
       "      <th></th>\n",
       "      <th></th>\n",
       "      <th></th>\n",
       "    </tr>\n",
       "  </thead>\n",
       "  <tbody>\n",
       "    <tr>\n",
       "      <th>Capomulin</th>\n",
       "      <td>40.675741</td>\n",
       "      <td>41.557809</td>\n",
       "      <td>24.947764</td>\n",
       "      <td>4.994774</td>\n",
       "      <td>0.329346</td>\n",
       "    </tr>\n",
       "    <tr>\n",
       "      <th>Ceftamin</th>\n",
       "      <td>52.591172</td>\n",
       "      <td>51.776157</td>\n",
       "      <td>39.290177</td>\n",
       "      <td>6.268188</td>\n",
       "      <td>0.469821</td>\n",
       "    </tr>\n",
       "    <tr>\n",
       "      <th>Infubinol</th>\n",
       "      <td>52.884795</td>\n",
       "      <td>51.820584</td>\n",
       "      <td>43.128684</td>\n",
       "      <td>6.567243</td>\n",
       "      <td>0.492236</td>\n",
       "    </tr>\n",
       "    <tr>\n",
       "      <th>Ketapril</th>\n",
       "      <td>55.235638</td>\n",
       "      <td>53.698743</td>\n",
       "      <td>68.553577</td>\n",
       "      <td>8.279709</td>\n",
       "      <td>0.603860</td>\n",
       "    </tr>\n",
       "    <tr>\n",
       "      <th>Naftisol</th>\n",
       "      <td>54.331565</td>\n",
       "      <td>52.509285</td>\n",
       "      <td>66.173479</td>\n",
       "      <td>8.134708</td>\n",
       "      <td>0.596466</td>\n",
       "    </tr>\n",
       "    <tr>\n",
       "      <th>Placebo</th>\n",
       "      <td>54.033581</td>\n",
       "      <td>52.288934</td>\n",
       "      <td>61.168083</td>\n",
       "      <td>7.821003</td>\n",
       "      <td>0.581331</td>\n",
       "    </tr>\n",
       "    <tr>\n",
       "      <th>Propriva</th>\n",
       "      <td>52.320930</td>\n",
       "      <td>50.446266</td>\n",
       "      <td>43.852013</td>\n",
       "      <td>6.622085</td>\n",
       "      <td>0.544332</td>\n",
       "    </tr>\n",
       "    <tr>\n",
       "      <th>Ramicane</th>\n",
       "      <td>40.216745</td>\n",
       "      <td>40.673236</td>\n",
       "      <td>23.486704</td>\n",
       "      <td>4.846308</td>\n",
       "      <td>0.320955</td>\n",
       "    </tr>\n",
       "    <tr>\n",
       "      <th>Stelasyn</th>\n",
       "      <td>54.233149</td>\n",
       "      <td>52.431737</td>\n",
       "      <td>59.450562</td>\n",
       "      <td>7.710419</td>\n",
       "      <td>0.573111</td>\n",
       "    </tr>\n",
       "    <tr>\n",
       "      <th>Zoniferol</th>\n",
       "      <td>53.236507</td>\n",
       "      <td>51.818479</td>\n",
       "      <td>48.533355</td>\n",
       "      <td>6.966589</td>\n",
       "      <td>0.516398</td>\n",
       "    </tr>\n",
       "  </tbody>\n",
       "</table>\n",
       "</div>"
      ],
      "text/plain": [
       "             Tumor Volume (mm3)                                          \n",
       "                           mean     median        var       std       sem\n",
       "Drug Regimen                                                             \n",
       "Capomulin             40.675741  41.557809  24.947764  4.994774  0.329346\n",
       "Ceftamin              52.591172  51.776157  39.290177  6.268188  0.469821\n",
       "Infubinol             52.884795  51.820584  43.128684  6.567243  0.492236\n",
       "Ketapril              55.235638  53.698743  68.553577  8.279709  0.603860\n",
       "Naftisol              54.331565  52.509285  66.173479  8.134708  0.596466\n",
       "Placebo               54.033581  52.288934  61.168083  7.821003  0.581331\n",
       "Propriva              52.320930  50.446266  43.852013  6.622085  0.544332\n",
       "Ramicane              40.216745  40.673236  23.486704  4.846308  0.320955\n",
       "Stelasyn              54.233149  52.431737  59.450562  7.710419  0.573111\n",
       "Zoniferol             53.236507  51.818479  48.533355  6.966589  0.516398"
      ]
     },
     "execution_count": 12,
     "metadata": {},
     "output_type": "execute_result"
    }
   ],
   "source": [
    "# Using the aggregation method, produce the same summary statistics in a single line\n",
    "Regimen_summary2 = CleanData_df.groupby(\"Drug Regimen\").agg({\"Tumor Volume (mm3)\":[\"mean\",\"median\",\"var\",\"std\",\"sem\"]})\n",
    "Regimen_summary2"
   ]
  },
  {
   "cell_type": "markdown",
   "metadata": {},
   "source": [
    "## Bar and Pie Charts"
   ]
  },
  {
   "cell_type": "code",
   "execution_count": 13,
   "metadata": {},
   "outputs": [
    {
     "data": {
      "text/plain": [
       "Text(0, 0.5, 'Number of Mice Tested')"
      ]
     },
     "execution_count": 13,
     "metadata": {},
     "output_type": "execute_result"
    },
    {
     "data": {
      "image/png": "[encoded data removed]",
      "text/plain": [
       "<Figure size 432x288 with 1 Axes>"
      ]
     },
     "metadata": {
      "needs_background": "light"
     },
     "output_type": "display_data"
    }
   ],
   "source": [
    "# Generate a bar plot showing the total number of unique mice tested on each drug regimen using pandas.\n",
    "Unique_mice = CleanData_df.groupby(\"Drug Regimen\").agg({\"Mouse ID\":[\"count\"]}).plot.bar()\n",
    "Unique_mice.set_ylabel(\"Number of Mice Tested\")\n",
    "#must format using pyplot"
   ]
  },
  {
   "cell_type": "code",
   "execution_count": 14,
   "metadata": {},
   "outputs": [
    {
     "data": {
      "image/png": "[encoded data removed]",
      "text/plain": [
       "<Figure size 432x288 with 1 Axes>"
      ]
     },
     "metadata": {
      "needs_background": "light"
     },
     "output_type": "display_data"
    }
   ],
   "source": [
    "# Generate a bar plot showing the total number of unique mice tested on each drug regimen using pyplot.\n",
    "#Note: the Pandas and Matplotlibs plots should look identical.\n",
    "mice_subjects = CleanData_df['Drug Regimen'].value_counts()\n",
    "#print provides the list\n",
    "plt.bar(mice_subjects.index.values,mice_subjects.values)\n",
    "plt.title(\"Drug Study Subject Counts\")\n",
    "plt.xlabel(\"Drug Regimen\")\n",
    "plt.ylabel(\"Number of Mice in Test\")\n",
    "plt.xticks(rotation=90)\n",
    "plt.show()"
   ]
  },
  {
   "cell_type": "code",
   "execution_count": 15,
   "metadata": {},
   "outputs": [
    {
     "data": {
      "image/png": "[encoded data removed]",
      "text/plain": [
       "<Figure size 432x288 with 1 Axes>"
      ]
     },
     "metadata": {},
     "output_type": "display_data"
    }
   ],
   "source": [
    "# Generate a pie plot showing the distribution of female versus male mice using pandas\n",
    "genders1 = CleanData_df[\"Sex\"].value_counts()\n",
    "plot = genders1.plot.pie(y='Gender', autopct='%1.1f%%')\n",
    "#plot.pie"
   ]
  },
  {
   "cell_type": "code",
   "execution_count": 16,
   "metadata": {},
   "outputs": [
    {
     "data": {
      "image/png": "[encoded data removed]",
      "text/plain": [
       "<Figure size 432x288 with 1 Axes>"
      ]
     },
     "metadata": {},
     "output_type": "display_data"
    }
   ],
   "source": [
    "# Generate a pie plot showing the distribution of female versus male mice using pyplot\n",
    "#Note: the Pandas and Matplotlibs plots should look identical.\n",
    "genders2 = CleanData_df[\"Sex\"].value_counts()\n",
    "\n",
    "\n",
    "# Labels for the sections of our pie chart\n",
    "labels = [\"Male\", \"Female\"]\n",
    "\n",
    "colors = [\"orange\", \"lightblue\"]\n",
    "\n",
    "# Create the pie - autopct automatically finds the percentages of each part of the pie chart\n",
    "plt.pie(genders2, labels=labels, colors=colors, autopct='%1.1f%%')\n",
    "plt.axis(\"equal\")\n",
    "#*****add a Yaxis for gender\n",
    "# Save an image of our chart and print the final product to the screen\n",
    "plt.savefig(\"../my_images/gender_PyPies.png\")\n",
    "plt.show()\n"
   ]
  },
  {
   "cell_type": "markdown",
   "metadata": {},
   "source": [
    "## Quartiles, Outliers and Boxplots"
   ]
  },
  {
   "cell_type": "code",
   "execution_count": 24,
   "metadata": {},
   "outputs": [
    {
     "name": "stdout",
     "output_type": "stream",
     "text": [
      "<function combine_lists at 0x000001726BA5CCA0>\n"
     ]
    }
   ],
   "source": [
    "# Calculate the final tumor volume of each mouse across four of the treatment regimens:  \n",
    "#groupby drug Mouse ID and tumor volume and reset \n",
    "#grouped_data = CleanData_df.groupby([\"Drug Regimen\", \"Mouse ID\", \"Tumor Volume (mm3)\"])\n",
    "#grouped_data = grouped_data.reset_index()\n",
    "#grouped_data.head()\n",
    "\n",
    "# Capomulin, Ramicane, Infubinol, and Ceftamin\n",
    "#Cap = CleanData_df.loc[CleanData_df[\"Drug Regimen\"]==\"Capomulin\",:]\n",
    "#Ram = CleanData_df.loc[CleanData_df[\"Drug Regimen\"]==\"Ramicane\",:]\n",
    "#Inf = CleanData_df.loc[CleanData_df[\"Drug Regimen\"]==\"Infubinol\",:]\n",
    "#Cef = CleanData_df.loc[CleanData_df[\"Drug Regimen\"]==\"Ceftamin\",:]\n",
    "\n",
    "#def combine_lists(Cap, Ram, Inf, Cef):\n",
    "#    lt = []\n",
    "#    lt.append(Cap)\n",
    "#    lt.append(Ram)\n",
    "#    lt.append (Inf)\n",
    "#    lt.append (Cef)\n",
    "#   return [lt if not lt or lt[0] else None for lt in args]\n",
    "#the above gives me a list with just the 4 drugs - hum before I combine them I may want to find the info per \n",
    "\n",
    "\n",
    "# Start by getting the last (greatest) timepoint for each mouse\n",
    "#*max timepoint ??\n",
    "#two column groupby with a function performed on one! then reset index\n",
    "last_timepoint = CleanData_df.groupby([\"Mouse ID\"])['Timepoint'].max()\n",
    "last_timepoint = last_timepoint.reset_index()\n",
    "\n",
    "# Merge this group df with the original dataframe to get the tumor volume at the last timepoint\n",
    "\n",
    "\n",
    "\n",
    "#*********Notes to keep\n",
    "#Timepoint_max = CleanData_df.groupby(\"Drug Regimen\").agg({\"Timepoint\":[\"max\"]}) - max timepoint is 45 for all drugs\n",
    "#I can use groupby to get all of the data based on drug or I can use .loc == drug to get separate lists for each drug and put in summary\n",
    "\n",
    "#This gives me the number of mice per study\n",
    "#mice_subjects = CleanData_df['Drug Regimen'].value_counts()\n",
    "#https://www.geeksforgeeks.org/python-pandas-dataframe-groupby/                           \n",
    "#https://www.bitdegree.org/learn/pandas-groupby\n",
    "#https://stackoverflow.com/questions/49783178/python-keep-other-columns-when-using-sum-with-groupby                         \n",
    "#https://stackoverflow.com/questions/31569549/how-to-groupby-a-dataframe-in-pandas-and-keep-columns\n",
    "#retrieving rows by loc method https://www.geeksforgeeks.org/python-pandas-extracting-rows-using-loc/#:~:text=loc%5B%5D%20method%20is%20a,in%20the%20caller%20data%20frame.                          \n",
    "#https://pandas.pydata.org/pandas-docs/version/0.24.2/reference/api/pandas.DataFrame.agg.html\n",
    "#****************************\n",
    "\n",
    "# Generate a bar plot showing the total number of unique mice tested on each drug regimen using pandas.\n",
    "#mice_subjects\n",
    "#mice_subjects - gives this for each of the drug regimens, but for all not just 4 - this is value count of cleandata drug..\n",
    "                           \n",
    "#print(final_mice)\n",
    "#plt.clf()\n",
    "#final_mice.groupby[\"Drug Regimen\"].count().plot(kind='bar')\n",
    "#plt.show()\n",
    "#plt.bar(final_mice.index.values,final_mice.values)\n"
   ]
  },
  {
   "cell_type": "code",
   "execution_count": null,
   "metadata": {},
   "outputs": [],
   "source": [
    "# Put treatments into a list for for loop (and later for plot labels)\n",
    "\n",
    "\n",
    "# Create empty list to fill with tumor vol data (for plotting)\n",
    "\n",
    "\n",
    "# Calculate the IQR and quantitatively determine if there are any potential outliers (acrose the 4 regimes)\n",
    "#highlight any potential outliers in the plot by changing their color and style (see hint below).\n",
    "#color see part 3 wrestlers maybe    \n",
    "    # Locate the rows which contain mice on each drug and get the tumor volumes\n",
    "    \n",
    "    \n",
    "    # add subset \n",
    "    \n",
    "    \n",
    "    # Determine outliers using upper and lower bounds\n",
    " \n",
    "#Hint**: All four box plots should be within the same figure. Use this [Matplotlib documentation page](https://matplotlib.org/gallery/pyplots/boxplot_demo_pyplot.html#sphx-glr-gallery-pyplots-boxplot-demo-pyplot-py) for help with changing the style of the outliers.\n",
    "\n"
   ]
  },
  {
   "cell_type": "code",
   "execution_count": null,
   "metadata": {},
   "outputs": [],
   "source": [
    "# Generate a box plot of the final tumor volume of each mouse across four regimens of interest\n"
   ]
  },
  {
   "cell_type": "markdown",
   "metadata": {},
   "source": [
    "## Line and Scatter Plots"
   ]
  },
  {
   "cell_type": "code",
   "execution_count": null,
   "metadata": {},
   "outputs": [],
   "source": [
    "# Generate a line plot of tumor volume vs. time point for a mouse treated with Capomulin\n",
    "#Isolate data for one mouse\n",
    "Capomulin_mice = CleanData_df.loc[CleanData_df[\"Drug Regimen\"] ==\"Capomulin\",:]\n",
    "One_mouse = Capomulin_mice.loc[Capomulin_mice[\"Mouse ID\"]==\"s185\",:]\n",
    "#NOTE this did not work properly when set index to Mouse ID\n",
    "\n",
    "#set x and y values\n",
    "Time = One_mouse[\"Timepoint\"]\n",
    "Vol = One_mouse[\"Tumor Volume (mm3)\"]\n",
    "\n",
    "#Title and axis labels\n",
    "plt.title(\"Capomulin Tumor Response Over Time\")\n",
    "plt.xlabel(\"Tumor Volume (mm3)\")\n",
    "plt.ylabel(\"Study Timepoints\")\n",
    "\n",
    "# Plot the world average as a line chart\n",
    "tumor_time, = plt.plot(Time, Vol, color=\"blue\", label=\"??\" )\n",
    "\n",
    "# Show the chart\n",
    "plt.show()\n"
   ]
  },
  {
   "cell_type": "code",
   "execution_count": null,
   "metadata": {},
   "outputs": [],
   "source": [
    "# Generate a scatter plot of average tumor volume vs. mouse weight for the Capomulin regimen\n",
    "#Capomulin_mice\n",
    "#Use Capomulin_mice\n",
    "Capomulin_mice = CleanData_df.loc[CleanData_df[\"Drug Regimen\"] ==\"Capomulin\",:]\n",
    "Capomulin_mice = Capomulin_mice.set_index(\"Mouse ID\")\n",
    "#avg_vol = round(Capomulin_mice.mean()[\"Tumor Volume (mm3)\"]), 2\n",
    "avg_vol = round(Capomulin_mice.mean()), 2\n",
    "\n",
    "#years = average_unemployment.keys()\n",
    "weight = round(Capomulin_mice[\"Weight (g)\"]), 2\n",
    "# Set the upper and lower limits of our x axis\n",
    "plt.xlim(14,26)\n",
    "plt.ylim(24,46)\n",
    "#print(weight)\n",
    "#print(avg_vol)\n",
    "plt.scatter(weight, avg_vol, marker=\"o\", facecolors=\"red\", edgecolors=\"black\")\n",
    "plt.title(\"Capomulin Weight to Volume\")\n",
    "plt.xlabel(\"Mouse Weight (g)\")\n",
    "plt.ylabel(\"Tumor Volume (mm3)\")"
   ]
  },
  {
   "cell_type": "code",
   "execution_count": null,
   "metadata": {},
   "outputs": [],
   "source": [
    "Capomulin_mice"
   ]
  },
  {
   "cell_type": "markdown",
   "metadata": {},
   "source": [
    "## Correlation and Regression"
   ]
  },
  {
   "cell_type": "code",
   "execution_count": null,
   "metadata": {},
   "outputs": [],
   "source": [
    "# Calculate the correlation coefficient and linear regression model \n",
    "# for mouse weight and average tumor volume for the Capomulin regimen\n"
   ]
  },
  {
   "cell_type": "code",
   "execution_count": null,
   "metadata": {},
   "outputs": [],
   "source": []
  },
  {
   "cell_type": "markdown",
   "metadata": {},
   "source": [
    "Here are some final considerations:\n",
    "\n",
    "* You must use proper labeling of your plots, to include properties such as: plot titles, axis labels, legend labels, _x_-axis and _y_-axis limits, etc.\n",
    "\n",
    "* See the [starter workbook](Pymaceuticals/pymaceuticals_starter.ipynb) for help on what modules to import and expected format of the notebook.\n",
    "\n",
    "## Hints and Considerations\n",
    "\n",
    "* Be warned: These are very challenging tasks. Be patient with yourself as you trudge through these problems. They will take time and there is no shame in fumbling along the way. Data visualization is equal parts exploration, equal parts resolution.\n",
    "\n",
    "* You have been provided a starter notebook. Use the code comments as a reminder of steps to follow as you complete the assignment.\n",
    "\n",
    "* Don't get bogged down in small details. Always focus on the big picture. If you can't figure out how to get a label to show up correctly, come back to it. Focus on getting the core skeleton of your notebook complete. You can always revisit old problems.\n",
    "\n",
    "* While you are trying to complete this assignment, feel encouraged to constantly refer to Stack Overflow and the Pandas documentation. These are needed tools in every data analyst's tool belt.\n",
    "\n",
    "* Remember, there are many ways to approach a data problem. The key is to break up your task into micro tasks. Try answering questions like:\n",
    "\n",
    "  * How does my DataFrame need to be structured for me to have the right _x_-axis and _y_-axis?\n",
    "\n",
    "  * How do I build a basic scatter plot?\n",
    "\n",
    "  * How do I add a label to that scatter plot?\n",
    "\n",
    "  * Where would the labels for that scatter plot come from?"
   ]
  }
 ],
 "metadata": {
  "anaconda-cloud": {},
  "kernelspec": {
   "display_name": "Python 3",
   "language": "python",
   "name": "python3"
  },
  "language_info": {
   "codemirror_mode": {
    "name": "ipython",
    "version": 3
   },
   "file_extension": ".py",
   "mimetype": "text/x-python",
   "name": "python",
   "nbconvert_exporter": "python",
   "pygments_lexer": "ipython3",
   "version": "3.8.3"
  }
 },
 "nbformat": 4,
 "nbformat_minor": 4
}
